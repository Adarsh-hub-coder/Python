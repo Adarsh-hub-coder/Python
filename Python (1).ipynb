{
  "nbformat": 4,
  "nbformat_minor": 0,
  "metadata": {
    "colab": {
      "provenance": []
    },
    "kernelspec": {
      "name": "python3",
      "display_name": "Python 3"
    },
    "language_info": {
      "name": "python"
    }
  },
  "cells": [
    {
      "cell_type": "markdown",
      "source": [
        "#Python basic questions\n"
      ],
      "metadata": {
        "id": "qBlEDZSe7C00"
      }
    },
    {
      "cell_type": "markdown",
      "source": [
        "1. What is Python, and why is it popular?\n",
        "  - Python is a programming language that is easy to understand and write, making it a popular choice among developers and programmers.  \n",
        "\n",
        "2. What is an interpreter in Python?\n",
        "  - A program that reads and executes Python code line by line, allowing you to see the results immediately.\n",
        "3. What are pre-defined keywords in Python?\n",
        "  - Keywords are reserved words in Python that have special meanings and cannot be used as identifiers (variable names, function names, etc.).\n",
        "  Examples: if,else,while,for,true,false,none,etc.\n",
        "4. Can keywords be used as variable names?\n",
        "  - No, keywords cannot be used as variable names.\n",
        "5. What is mutability in Python?\n",
        "  - Mutability in python refers to whether the value of an object can be changed after it is created. Mutable objects, such as lists and dictionaries,sets.\n",
        "6. Why are lists mutable, but tuples are immutable?\n",
        "  - Because lists can be modified after creation so, it is mutable but we cannot modify tuples after creation thats why it is immutable.\n",
        "7. What is the difference between “==” and “is” operators in Python?   \n",
        "  - The \"==\" operator checks for equality of value, while the \"is\" operator checks for identity.\n",
        " * \"==\" compares the values of two objects. If the values are the same, it returns True; otherwise, it returns False.\n",
        " * \"is\" checks if two variables refer to the same object in memory. If they do, it returns True; otherwise, it returns False.\n",
        "8. What are logical operators in Python?\n",
        "  - Logical operaters in python are used to combine conditional statements and evaluate the truthiness of expressions. logical operators (and, or, not).\n",
        "9. What is type casting in Python?      \n",
        "  - Type casting, also referred to as type conversion, is the process of changing one data type to another in Python.\n",
        "10. What is the difference between implicit and explicit type casting?\n",
        "  - Implicit type casting, also known as widening or coercion, is the automatic conversion of one data type to another, typically from a smaller data type to a larger one, performed by the compiler. Explicit type casting, on the other hand, is a manual conversion where the programmer specifies the desired data type, often involving a potential loss of data or precision.\n",
        "11. What is the purpose of conditional statements in Python?   \n",
        "   - The primary purpose of conditional statements is to control the flow of execution, allowing programs to respond dynamically to varying inputs and situations.\n",
        "12. How does the elif statement work?   \n",
        "  - The elif statement in Python is used in conjunction with if and optionally else to create a chain of conditional checks. It allows the program to evaluate multiple conditions sequentially and execute the block of code corresponding to the first condition that evaluates to True.\n",
        "13. What is the difference between for and while loops?  \n",
        "  - The primary difference between for and while loops in Python lies in their control flow and typical use cases.\n",
        "\n",
        "*for loop: This loop iterates over a sequence (like a list, tuple, string, or range) or other iterable objects. It executes a block of code for each item in the sequence. The number of iterations is known beforehand.\n",
        "\n",
        "*while loop: This loop repeatedly executes a block of code as long as a specified condition is true. The number of iterations is not necessarily known in advance and depends on the condition.\n",
        "14. Describe a scenario where a while loop is more suitable than a for loop?\n",
        "  - A scenario where a while loop is more suitable than a for loop in Python is when the number of iterations needed is not known beforehand and depends on a certain condition being met. For example, consider a program that prompts the user for input until they enter a specific word, such as \"quit\". A while loop can continuously ask for input and check the condition, whereas a for loop, which requires a predefined range or sequence, would not be appropriate.   \n",
        "\n",
        "\n"
      ],
      "metadata": {
        "id": "SotaAg3o7kKL"
      }
    },
    {
      "cell_type": "code",
      "source": [
        "user_input = \"\"\n",
        "while user_input.lower() != \"quit\":\n",
        "    user_input = input(\"Enter text (type 'quit' to exit): \")\n",
        "    print(\"You entered:\", user_input)\n",
        "print(\"Exiting the program.\")\n"
      ],
      "metadata": {
        "id": "MJ96VVM5H0CS"
      },
      "execution_count": null,
      "outputs": []
    },
    {
      "cell_type": "markdown",
      "source": [
        "In this example, the while loop continues as long as the user_input is not equal to \"quit.\" The loop's termination depends entirely on the user's input, making a while loop a more natural choice than a for loop, which requires a predetermined sequence or range of iterations."
      ],
      "metadata": {
        "id": "ZuvVLcDB38lR"
      }
    },
    {
      "cell_type": "markdown",
      "source": [
        "#Practical questions"
      ],
      "metadata": {
        "id": "KVx1XwSX4B7V"
      }
    },
    {
      "cell_type": "markdown",
      "source": [
        "1. Write a Python program to print \"Hello, World!\""
      ],
      "metadata": {
        "id": "e8MB9GXywxH2"
      }
    },
    {
      "cell_type": "code",
      "source": [
        "print(\"Hello, World!\")\n"
      ],
      "metadata": {
        "colab": {
          "base_uri": "https://localhost:8080/"
        },
        "id": "rugjSkE8y4f1",
        "outputId": "64313660-d22a-443f-ffae-997d069cf2a3"
      },
      "execution_count": 4,
      "outputs": [
        {
          "output_type": "stream",
          "name": "stdout",
          "text": [
            "Hello, World!\n"
          ]
        }
      ]
    },
    {
      "cell_type": "markdown",
      "source": [
        "2. Write a Python program that displays your name and age."
      ],
      "metadata": {
        "id": "InpnCidUzYBH"
      }
    },
    {
      "cell_type": "code",
      "source": [
        "name = input(\"enter name\")\n",
        "age = input(\"enter age\")"
      ],
      "metadata": {
        "colab": {
          "base_uri": "https://localhost:8080/"
        },
        "id": "gIdqNIVRwoYB",
        "outputId": "66971acd-766a-450a-bc88-9ce39070f167"
      },
      "execution_count": 3,
      "outputs": [
        {
          "name": "stdout",
          "output_type": "stream",
          "text": [
            "enter name  \"Adarsh\"\n",
            "enter age \"18\"\n"
          ]
        }
      ]
    },
    {
      "cell_type": "markdown",
      "source": [
        "3. Write code to print all the pre-defined keywords in Python using the keyword library."
      ],
      "metadata": {
        "id": "hBbN6nrj3Wxw"
      }
    },
    {
      "cell_type": "code",
      "source": [
        "help(\"keywords\")"
      ],
      "metadata": {
        "colab": {
          "base_uri": "https://localhost:8080/"
        },
        "id": "RP2-vLCtxaam",
        "outputId": "511f8bfc-7b18-49f3-f875-6910e7c96c1f"
      },
      "execution_count": 5,
      "outputs": [
        {
          "output_type": "stream",
          "name": "stdout",
          "text": [
            "\n",
            "Here is a list of the Python keywords.  Enter any keyword to get more help.\n",
            "\n",
            "False               class               from                or\n",
            "None                continue            global              pass\n",
            "True                def                 if                  raise\n",
            "and                 del                 import              return\n",
            "as                  elif                in                  try\n",
            "assert              else                is                  while\n",
            "async               except              lambda              with\n",
            "await               finally             nonlocal            yield\n",
            "break               for                 not                 \n",
            "\n"
          ]
        }
      ]
    },
    {
      "cell_type": "markdown",
      "source": [],
      "metadata": {
        "id": "U6LHAnAywmwK"
      }
    },
    {
      "cell_type": "markdown",
      "source": [
        "4.  Write a program that checks if a given word is a Python keyword.\n"
      ],
      "metadata": {
        "id": "YNprHhOn3mNn"
      }
    },
    {
      "cell_type": "code",
      "source": [
        "import keyword\n",
        "\n",
        "def is_keyword(word):\n",
        "  \"\"\"Checks if a word is a Python keyword.\n",
        "\n",
        "  Args:\n",
        "    word: The word to check.\n",
        "\n",
        "  Returns:\n",
        "    True if the word is a keyword, False otherwise.\n",
        "  \"\"\"\n",
        "  return keyword.iskeyword(word)\n",
        "\n",
        "# Example usage\n",
        "word1 = \"for\"\n",
        "word2 = \"hello\"\n",
        "word3 = \"True\"\n",
        "\n",
        "print(f\"'{word1}' is a keyword: {is_keyword(word1)}\")\n",
        "print(f\"'{word2}' is a keyword: {is_keyword(word2)}\")\n",
        "print(f\"'{word3}' is a keyword: {is_keyword(word3)}\")"
      ],
      "metadata": {
        "id": "pzKX5Rxz3UCL"
      },
      "execution_count": null,
      "outputs": []
    },
    {
      "cell_type": "markdown",
      "source": [
        "5. Create a list and tuple in Python, and demonstrate how attempting to change an element works differently\n",
        "for each.\n"
      ],
      "metadata": {
        "id": "Rt7acLm0v7oe"
      }
    },
    {
      "cell_type": "code",
      "source": [
        "# Creating a list\n",
        "my_list = [1, 2, 3]\n",
        "\n",
        "# Creating a tuple\n",
        "my_tuple = (1, 2, 3)\n",
        "\n",
        "# Attempting to change an element in a list\n",
        "my_list[0] = 10  # This is allowed\n",
        "print(my_list)\n",
        "\n",
        "# Attempting to change an element in a tuple\n",
        "try:\n",
        "    my_tuple[0] = 10  # This will raise an error\n",
        "except TypeError as e:\n",
        "    print(f\"Error: {e}\")"
      ],
      "metadata": {
        "colab": {
          "base_uri": "https://localhost:8080/"
        },
        "id": "mehzZ_rfv9K4",
        "outputId": "816167b0-5afd-42a5-cb4d-915bc47bcfea"
      },
      "execution_count": 2,
      "outputs": [
        {
          "output_type": "stream",
          "name": "stdout",
          "text": [
            "[10, 2, 3]\n",
            "Error: 'tuple' object does not support item assignment\n"
          ]
        }
      ]
    },
    {
      "cell_type": "markdown",
      "source": [
        "6. Write a function to demonstrate the behavior of mutable and immutable arguments."
      ],
      "metadata": {
        "id": "hi27Uo7yxAp8"
      }
    },
    {
      "cell_type": "code",
      "source": [
        "def modify_args(immutable, mutable):\n",
        "    immutable += 10\n",
        "    mutable.append(3)\n",
        "    print(\"Inside function:\")\n",
        "    print(\"Immutable:\", immutable)\n",
        "    print(\"Mutable:\", mutable)\n",
        "\n",
        "# Immutable argument (integer)\n",
        "num = 5\n",
        "# Mutable argument (list)\n",
        "my_list = [1, 2]\n",
        "\n",
        "print(\"Before function call:\")\n",
        "print(\"Immutable:\", num)\n",
        "print(\"Mutable:\", my_list)\n",
        "\n",
        "modify_args(num, my_list)\n",
        "\n",
        "print(\"After function call:\")\n",
        "print(\"Immutable:\", num)\n",
        "print(\"Mutable:\", my_list)"
      ],
      "metadata": {
        "colab": {
          "base_uri": "https://localhost:8080/"
        },
        "id": "tfcsJtIRxJyd",
        "outputId": "a3bd8736-af5b-4fac-910c-12e61c453b90"
      },
      "execution_count": 3,
      "outputs": [
        {
          "output_type": "stream",
          "name": "stdout",
          "text": [
            "Before function call:\n",
            "Immutable: 5\n",
            "Mutable: [1, 2]\n",
            "Inside function:\n",
            "Immutable: 15\n",
            "Mutable: [1, 2, 3]\n",
            "After function call:\n",
            "Immutable: 5\n",
            "Mutable: [1, 2, 3]\n"
          ]
        }
      ]
    },
    {
      "cell_type": "markdown",
      "source": [
        "7. Write a program that performs basic arithmetic operations on two user-input numbers."
      ],
      "metadata": {
        "id": "MEMlX-2axQ0_"
      }
    },
    {
      "cell_type": "code",
      "source": [
        "def perform_arithmetic(num1, num2, operation):\n",
        "    \"\"\"\n",
        "    Performs basic arithmetic operations on two numbers.\n",
        "\n",
        "    Args:\n",
        "        num1: The first number.\n",
        "        num2: The second number.\n",
        "        operation: The arithmetic operation to perform ('+', '-', '*', '/').\n",
        "\n",
        "    Returns:\n",
        "        The result of the operation, or None if the operation is invalid.\n",
        "    \"\"\"\n",
        "    if operation == '+':\n",
        "        return num1 + num2\n",
        "    elif operation == '-':\n",
        "        return num1 - num2\n",
        "    elif operation == '*':\n",
        "        return num1 * num2\n",
        "    elif operation == '/':\n",
        "        if num2 == 0:\n",
        "            print(\"Error: Cannot divide by zero.\")\n",
        "            return None\n",
        "        else:\n",
        "            return num1 / num2\n",
        "    else:\n",
        "        print(\"Invalid operation. Please use +, -, *, or /.\")\n",
        "        return None\n",
        "\n",
        "# Get input from the user\n",
        "try:\n",
        "    num1 = float(input(\"Enter the first number: \"))\n",
        "    num2 = float(input(\"Enter the second number: \"))\n",
        "    operation = input(\"Enter the operation (+, -, *, /): \")\n",
        "\n",
        "    result = perform_arithmetic(num1, num2, operation)\n",
        "\n",
        "    if result is not None:\n",
        "        print(f\"The result is: {result}\")\n",
        "\n",
        "except ValueError:\n",
        "    print(\"Invalid input. Please enter valid numbers.\")"
      ],
      "metadata": {
        "id": "MV3eCQghxbb2"
      },
      "execution_count": null,
      "outputs": []
    },
    {
      "cell_type": "markdown",
      "source": [
        "8. Write a program to demonstrate the use of logical operators."
      ],
      "metadata": {
        "id": "ZCEfy1uPzcLx"
      }
    },
    {
      "cell_type": "code",
      "source": [
        "# Example: Logical Operators (AND, OR, NOT) with generic variables\n",
        "a, b, c = True, False, True\n",
        "\n",
        "# AND: Both conditions must be True\n",
        "if a and c:\n",
        "    print(\"Both a and c are True (AND condition).\")\n",
        "\n",
        "# OR: At least one condition must be True\n",
        "if b or c:\n",
        "    print(\"Either b or c is True (OR condition).\")\n",
        "\n",
        "# NOT: Reverses the condition\n",
        "if not b:\n",
        "    print(\"b is False (NOT condition).\")"
      ],
      "metadata": {
        "colab": {
          "base_uri": "https://localhost:8080/"
        },
        "id": "l4RejbDcyZtR",
        "outputId": "b9cca32d-9feb-41f4-9196-2b775a5767cb"
      },
      "execution_count": 1,
      "outputs": [
        {
          "output_type": "stream",
          "name": "stdout",
          "text": [
            "Both a and c are True (AND condition).\n",
            "Either b or c is True (OR condition).\n",
            "b is False (NOT condition).\n"
          ]
        }
      ]
    },
    {
      "cell_type": "markdown",
      "source": [
        "9. Write a Python program to convert user input from string to integer, float, and boolean types."
      ],
      "metadata": {
        "id": "6s0eaZXzz9fG"
      }
    },
    {
      "cell_type": "code",
      "source": [
        "def convert_string_to_types(input_string):\n",
        "    \"\"\"Converts a string to integer, float, and boolean types.\"\"\"\n",
        "    try:\n",
        "        integer_value = int(input_string)\n",
        "    except ValueError:\n",
        "        integer_value = None\n",
        "        print(\"Cannot convert to integer\")\n",
        "\n",
        "    try:\n",
        "        float_value = float(input_string)\n",
        "    except ValueError:\n",
        "         float_value = None\n",
        "         print(\"Cannot convert to float\")\n",
        "\n",
        "    if input_string.lower() in (\"true\", \"1\", \"yes\"):\n",
        "        boolean_value = True\n",
        "    elif input_string.lower() in (\"false\", \"0\", \"no\"):\n",
        "        boolean_value = False\n",
        "    else:\n",
        "        boolean_value = None\n",
        "        print(\"Cannot convert to boolean\")\n",
        "\n",
        "    return integer_value, float_value, boolean_value\n",
        "\n",
        "# Get user input\n",
        "user_input = input(\"Enter a value: \")\n",
        "\n",
        "# Convert the input string\n",
        "integer_result, float_result, boolean_result = convert_string_to_types(user_input)\n",
        "\n",
        "# Print the results\n",
        "if integer_result is not None:\n",
        "    print(f\"Integer: {integer_result}\")\n",
        "if float_result is not None:\n",
        "    print(f\"Float: {float_result}\")\n",
        "if boolean_result is not None:\n",
        "    print(f\"Boolean: {boolean_result}\")"
      ],
      "metadata": {
        "id": "zXJ4shvi0JRi"
      },
      "execution_count": null,
      "outputs": []
    },
    {
      "cell_type": "markdown",
      "source": [
        "10. Write code to demonstrate type casting with list elements."
      ],
      "metadata": {
        "id": "ypuGqqWd0kGi"
      }
    },
    {
      "cell_type": "code",
      "source": [
        "# Initial list with mixed data types\n",
        "my_list = [1, 3.14, \"hello\", True]\n",
        "\n",
        "# Type casting each element to string\n",
        "string_list = [str(element) for element in my_list]\n",
        "print(\"List with string elements:\", string_list)\n",
        "\n",
        "# Type casting each element to float (if possible, otherwise handle exception)\n",
        "float_list = []\n",
        "for element in my_list:\n",
        "    try:\n",
        "        float_list.append(float(element))\n",
        "    except ValueError:\n",
        "        float_list.append(None)  # Append None for elements that cannot be cast\n",
        "print(\"List with float elements (or None):\", float_list)\n",
        "\n",
        "# Type casting each element to integer (if possible, otherwise handle exception)\n",
        "int_list = []\n",
        "for element in my_list:\n",
        "    try:\n",
        "        int_list.append(int(element))\n",
        "    except ValueError:\n",
        "        int_list.append(None)  # Append None for elements that cannot be cast\n",
        "print(\"List with integer elements (or None):\", int_list)\n",
        "\n",
        "# List of strings\n",
        "string_list2 = [\"10\", \"20\", \"30\"]\n",
        "\n",
        "# Type casting each string element to integer\n",
        "int_list2 = [int(element) for element in string_list2]\n",
        "print(\"List with integer elements:\", int_list2)"
      ],
      "metadata": {
        "id": "1kMbE66R0z_m"
      },
      "execution_count": null,
      "outputs": []
    },
    {
      "cell_type": "markdown",
      "source": [
        "11.Write a program that checks if a number is positive, negative, or zero."
      ],
      "metadata": {
        "id": "lelMkdmz0-FK"
      }
    },
    {
      "cell_type": "code",
      "source": [
        "num = float(input(\"Enter a number: \"))\n",
        "if num > 0:\n",
        "   print(\"Positive number\")\n",
        "elif num == 0:\n",
        "   print(\"Zero\")\n",
        "else:\n",
        "   print(\"Negative number\")"
      ],
      "metadata": {
        "id": "DNlygASM1Off"
      },
      "execution_count": null,
      "outputs": []
    },
    {
      "cell_type": "markdown",
      "source": [
        "12. Write a for loop to print numbers from 1 to 10."
      ],
      "metadata": {
        "id": "Eeda1aNT1U-2"
      }
    },
    {
      "cell_type": "code",
      "source": [
        "print(\"Print integers 1 to 10 using for loop:\")\n",
        "for i in range(1, 11): # iterates for 10 times\n",
        "    print(i)"
      ],
      "metadata": {
        "id": "gtoxGfdP12G_"
      },
      "execution_count": null,
      "outputs": []
    },
    {
      "cell_type": "markdown",
      "source": [
        "13. Write a Python program to find the sum of all even numbers between 1 and 50."
      ],
      "metadata": {
        "id": "t3myW1wI174s"
      }
    },
    {
      "cell_type": "code",
      "source": [
        "sum_of_evens = 0\n",
        "for number in range(2, 51, 2):\n",
        "    sum_of_evens += number\n",
        "print(sum_of_evens)"
      ],
      "metadata": {
        "id": "0izNdk152Ppk"
      },
      "execution_count": null,
      "outputs": []
    },
    {
      "cell_type": "markdown",
      "source": [
        "14. Write a program to reverse a string using a while loop."
      ],
      "metadata": {
        "id": "RpuGeeiK2TWf"
      }
    },
    {
      "cell_type": "code",
      "source": [
        "def reverse_string(s):\n",
        "    reversed_s = \"\"\n",
        "    length = len(s) - 1\n",
        "    while length >= 0:\n",
        "        reversed_s += s[length]\n",
        "        length -= 1\n",
        "    return reversed_s\n",
        "\n",
        "input_string = \"example\"\n",
        "reversed_string = reverse_string(input_string)\n",
        "print(f\"Original string: {input_string}\")\n",
        "print(f\"Reversed string: {reversed_string}\")"
      ],
      "metadata": {
        "id": "pPzQWUFb2bVb"
      },
      "execution_count": null,
      "outputs": []
    },
    {
      "cell_type": "markdown",
      "source": [
        "15. Write a Python program to calculate the factorial of a number provided by the user using a while loop"
      ],
      "metadata": {
        "id": "AvbEG35U2oVh"
      }
    },
    {
      "cell_type": "code",
      "source": [
        "number = int(input(\"Enter a non-negative integer: \"))\n",
        "factorial = 1\n",
        "\n",
        "if number < 0:\n",
        "    print(\"Factorial is not defined for negative numbers.\")\n",
        "elif number == 0:\n",
        "    print(\"The factorial of 0 is 1\")\n",
        "else:\n",
        "    while number > 0:\n",
        "        factorial *= number\n",
        "        number -= 1\n",
        "    print(\"The factorial is\", factorial)"
      ],
      "metadata": {
        "id": "naIQsrMt23uU"
      },
      "execution_count": null,
      "outputs": []
    }
  ]
}